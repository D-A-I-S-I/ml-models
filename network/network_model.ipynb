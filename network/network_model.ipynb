{
 "cells": [
  {
   "cell_type": "code",
   "execution_count": 12,
   "metadata": {},
   "outputs": [],
   "source": [
    "import numpy as np\n",
    "import pandas as pd\n",
    "from sklearn.tree import DecisionTreeClassifier\n",
    "from sklearn.neighbors import KNeighborsClassifier\n",
    "from sklearn.ensemble import RandomForestClassifier\n",
    "from sklearn.model_selection import train_test_split\n",
    "from sklearn.model_selection import cross_val_score\n",
    "from sklearn.model_selection import LeaveOneOut\n",
    "from sklearn.model_selection import GridSearchCV\n",
    "from sklearn.preprocessing import MinMaxScaler, normalize\n",
    "from sklearn.feature_selection import SequentialFeatureSelector\n",
    "from sklearn.decomposition import PCA\n",
    "from sklearn import tree\n",
    "from sklearn.metrics import accuracy_score\n",
    "from sklearn.datasets import load_files\n",
    "from sklearn.preprocessing import OneHotEncoder\n",
    "from sklearn import preprocessing\n",
    "from statistics import mean\n",
    "import matplotlib.pyplot as plt\n",
    "import itertools\n",
    "\n",
    "\n"
   ]
  },
  {
   "cell_type": "code",
   "execution_count": 17,
   "metadata": {},
   "outputs": [
    {
     "name": "stdout",
     "output_type": "stream",
     "text": [
      "5038\n"
     ]
    }
   ],
   "source": [
    "from sklearn.feature_selection import RFE\n",
    "training_data = pd.read_csv(\"../network/Train_data.csv\", delimiter=\",\")\n",
    "test_data = pd.read_csv('../network/Test_data.csv', delimiter=\",\")\n",
    "model = RandomForestClassifier()\n",
    "le = preprocessing.LabelEncoder()\n",
    "\n",
    "#enc = OneHotEncoder(handle_unknown='ignore')\n",
    "\n",
    "X = training_data.select_dtypes(include=[object, 'string'])\n",
    "\n",
    "training_data.drop(X.columns, inplace=True, axis=1)\n",
    "\n",
    "X_2 = X.apply(le.fit_transform)\n",
    "\n",
    "training_data = training_data.join(X_2)\n",
    "\n",
    "y = training_data['class']\n",
    "\n",
    "training_data.drop(['class', 'is_host_login', 'num_outbound_cmds', 'src_bytes', 'dst_bytes','count','same_srv_rate','diff_srv_rate','dst_host_srv_count','dst_host_same_srv_rate', 'protocol_type','service', 'flag'], axis=1, inplace=True)\n",
    "\n",
    "\n",
    "# co = training_data.corr()\n",
    "# fig4, ax4 = plt.subplots()\n",
    "# ax4.matshow(co)\n",
    "\n",
    "# rfe = RFE(model, n_features_to_select=10)  # Adjust the number of features\n",
    "# rfe = rfe.fit(training_data, y)\n",
    "\n",
    "# feature_map = [(i, v) for i, v in itertools.zip_longest(rfe.get_support(), training_data.columns)]\n",
    "# selected_features = [v for i, v in feature_map if i==True]\n",
    "# selected_features\n",
    "\n",
    "#training_data = training_data[['src_bytes', 'dst_bytes','count','same_srv_rate','diff_srv_rate','dst_host_srv_count','dst_host_same_srv_rate', 'protocol_type','service', 'flag']]\n",
    "training_data = training_data[['num_compromised']]\n",
    "\n",
    "# co = X_selected.corr()\n",
    "# fig4, ax4 = plt.subplots()\n",
    "# ax4.matshow(co)\n",
    "\n",
    "\n",
    "\n",
    "\n",
    "\n",
    "# str_columns = training_data.select_dtypes(include=['object', 'string']).columns\n",
    "# training_data = pd.get_dummies(training_data, columns=str_columns)\n",
    "# print(training_data.to_markdown())\n",
    "\n",
    "# y = training_data['class_anomaly', 'class_normal']\n",
    "\n",
    "# training_data.drop('class_anomaly', 'class_normal', axis=1, inplace=True)\n",
    "# training_data.dropna()\n",
    "\n",
    "X_train, X_test, y_train, y_test = train_test_split(training_data, y, test_size=0.8)\n",
    "# print(len(X_train))\n",
    "# print(len(X_test))\n",
    "print(len(X_train))\n",
    "\n",
    "\n",
    "# print(y)"
   ]
  },
  {
   "cell_type": "code",
   "execution_count": 18,
   "metadata": {},
   "outputs": [
    {
     "name": "stdout",
     "output_type": "stream",
     "text": [
      "Accuracy: 0.5411828917336509\n",
      "0.5411332027900397\n"
     ]
    }
   ],
   "source": [
    "from sklearn.metrics import classification_report\n",
    "clf = RandomForestClassifier(n_estimators=50)\n",
    "clf.fit(X_train,y_train)\n",
    "\n",
    "\n",
    "y_pred = clf.predict(X_test)\n",
    "\n",
    "accuracy = accuracy_score(y_test, y_pred)\n",
    "print(\"Accuracy:\", accuracy)\n",
    "\n",
    "print(mean(cross_val_score(clf, X_test, y_test, cv=5)))\n",
    "#print(classification_report(y_test, y_pred))\n"
   ]
  }
 ],
 "metadata": {
  "kernelspec": {
   "display_name": "base",
   "language": "python",
   "name": "python3"
  },
  "language_info": {
   "codemirror_mode": {
    "name": "ipython",
    "version": 3
   },
   "file_extension": ".py",
   "mimetype": "text/x-python",
   "name": "python",
   "nbconvert_exporter": "python",
   "pygments_lexer": "ipython3",
   "version": "3.11.5"
  }
 },
 "nbformat": 4,
 "nbformat_minor": 2
}
