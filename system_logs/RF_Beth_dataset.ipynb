{
 "cells": [
  {
   "cell_type": "code",
   "execution_count": 1,
   "metadata": {},
   "outputs": [],
   "source": [
    "import numpy as np\n",
    "import pandas as pd\n",
    "import seaborn as sns\n",
    "import matplotlib.pyplot as plt # viz\n",
    "from scipy import stats\n",
    "import json\n",
    "from typing import List, Tuple\n",
    "\n",
    "from sklearn.ensemble import IsolationForest\n",
    "from sklearn.metrics import f1_score, balanced_accuracy_score, roc_auc_score, precision_recall_fscore_support\n",
    "from sklearn import metrics, linear_model\n",
    "\n",
    "import torch\n",
    "import torch.nn as nn\n",
    "import torch.nn.functional as F\n",
    "from torch.utils.data import TensorDataset, DataLoader\n",
    "\n",
    "import warnings\n",
    "warnings.filterwarnings('ignore')"
   ]
  },
  {
   "cell_type": "code",
   "execution_count": 7,
   "metadata": {},
   "outputs": [
    {
     "name": "stdout",
     "output_type": "stream",
     "text": [
      "timestamp          762911\n",
      "processId             545\n",
      "threadId              588\n",
      "parentProcessId       205\n",
      "userId                  7\n",
      "mountNamespace          6\n",
      "processName            36\n",
      "hostName                8\n",
      "eventId                32\n",
      "eventName              32\n",
      "stackAddresses      97050\n",
      "argsNum                 6\n",
      "returnValue           524\n",
      "args               214720\n",
      "sus                     2\n",
      "evil                    1\n",
      "dtype: int64\n"
     ]
    }
   ],
   "source": [
    "\n",
    "# only test dataset includes evil samples.\n",
    "train_df = pd.read_csv('./beth-dataset/labelled_training_data.csv')\n",
    "test_df = train_df\n",
    "\n",
    "# validation_df = pd.read_csv('./beth-dataset/labelled_validation_data.csv')\n",
    "\n",
    "# use 10% of training data and test data for subset testing\n",
    "# train_df = train_df.sample(frac=0.1)\n",
    "# test_df = test_df.sample(frac=0.1)\n",
    "# test_df = pd.read_csv('./beth-dataset/labelled_testing_data.csv')\n",
    "# count number of unique observations in columns\n",
    "print(test_df.nunique())"
   ]
  },
  {
   "cell_type": "code",
   "execution_count": 8,
   "metadata": {},
   "outputs": [],
   "source": [
    "# remove target columns sus and evil\n",
    "y = test_df[['evil']]\n",
    "X = test_df.drop(['sus', 'evil'], axis=1)\n",
    "X = X[['mountNamespace']]\n",
    "X = pd.get_dummies(X)\n",
    "\n",
    "\n",
    "# traintest split on x and y\n",
    "from sklearn.model_selection import train_test_split\n",
    "X_train, X_test, y_train, y_test = train_test_split(X, y, test_size=.3)\n",
    "\n",
    "# make sure X_test and X_train have the same columns\n",
    "X_test = X_test[X_train.columns]"
   ]
  },
  {
   "cell_type": "code",
   "execution_count": 9,
   "metadata": {},
   "outputs": [
    {
     "data": {
      "text/plain": [
       "(           evil\n",
       " count  228944.0\n",
       " mean        0.0\n",
       " std         0.0\n",
       " min         0.0\n",
       " 25%         0.0\n",
       " 50%         0.0\n",
       " 75%         0.0\n",
       " max         0.0,\n",
       "          timestamp  processId  threadId  parentProcessId  userId  \\\n",
       " 763139  324.542553       7274      7274             7108       0   \n",
       " 763140  324.542579       7274      7274             7108       0   \n",
       " 763141  324.543178       7274      7274             7108       0   \n",
       " 763142  324.543695       7275      7275                1     109   \n",
       " 763143  324.543831       7108      7108                1       0   \n",
       " \n",
       "         mountNamespace processName        hostName  eventId  \\\n",
       " 763139      4026531840        sshd  ip-10-100-1-79     1003   \n",
       " 763140      4026531840        sshd  ip-10-100-1-79       62   \n",
       " 763141      4026531840        sshd  ip-10-100-1-79     1010   \n",
       " 763142      4026531840        sshd  ip-10-100-1-79     1010   \n",
       " 763143      4026531840        sshd  ip-10-100-1-79        3   \n",
       " \n",
       "                  eventName     stackAddresses  argsNum  returnValue  \\\n",
       " 763139         cap_capable                 []        1            0   \n",
       " 763140                kill                 []        2            0   \n",
       " 763141  sched_process_exit                 []        0            0   \n",
       " 763142  sched_process_exit                 []        0            0   \n",
       " 763143               close  [140129105123719]        1            0   \n",
       " \n",
       "                                                      args  sus  evil  \n",
       " 763139  [{'name': 'cap', 'type': 'int', 'value': 'CAP_...    0     0  \n",
       " 763140  [{'name': 'pid', 'type': 'pid_t', 'value': 0},...    0     0  \n",
       " 763141                                                 []    0     0  \n",
       " 763142                                                 []    0     0  \n",
       " 763143        [{'name': 'fd', 'type': 'int', 'value': 6}]    0     0  )"
      ]
     },
     "execution_count": 9,
     "metadata": {},
     "output_type": "execute_result"
    }
   ],
   "source": [
    "# X_train.describe(include=['object', 'float', 'int'])\n",
    "y_test.describe(), test_df.tail()\n",
    "\n",
    "# # count number of evil\n",
    "# print(y_train.value_counts())"
   ]
  },
  {
   "cell_type": "code",
   "execution_count": 10,
   "metadata": {},
   "outputs": [
    {
     "name": "stdout",
     "output_type": "stream",
     "text": [
      "              precision    recall  f1-score   support\n",
      "\n",
      "           0       1.00      1.00      1.00    228944\n",
      "\n",
      "    accuracy                           1.00    228944\n",
      "   macro avg       1.00      1.00      1.00    228944\n",
      "weighted avg       1.00      1.00      1.00    228944\n",
      "\n",
      "Hamming Loss: 0.0\n",
      "F1 Score (Micro): 1.0\n",
      "1.0\n"
     ]
    }
   ],
   "source": [
    "# Random Forest\n",
    "from sklearn.ensemble import RandomForestClassifier\n",
    "from sklearn.multioutput import MultiOutputClassifier\n",
    "from sklearn.metrics import classification_report\n",
    "from sklearn.metrics import hamming_loss, f1_score\n",
    "\n",
    "# Create the RandomForestClassifier\n",
    "forest = RandomForestClassifier(max_features='log2', n_estimators=100, random_state=13, n_jobs=8)\n",
    "\n",
    "# Use MultiOutputClassifier to handle multi-label classification\n",
    "# multi_target_forest = MultiOutputClassifier(forest, n_jobs=8)\n",
    "\n",
    "# Fit the model\n",
    "forest.fit(X_train, y_train)\n",
    "\n",
    "# Predict on the test set\n",
    "y_pred = forest.predict(X_test)\n",
    "\n",
    "# Use the classification report as before\n",
    "print(classification_report(y_test, y_pred))\n",
    "\n",
    "# Compute Hamming loss\n",
    "print(\"Hamming Loss:\", hamming_loss(y_test, y_pred))\n",
    "\n",
    "# Compute F1 Score\n",
    "# Micro averages in multi-label classification aggregates the contributions of all classes to compute the average metric\n",
    "print(\"F1 Score (Micro):\", f1_score(y_test, y_pred, average='macro'))\n",
    "\n",
    "# crossvalidation\n",
    "from sklearn.model_selection import cross_val_score\n",
    "scores = cross_val_score(forest, X, y, cv=10, scoring='f1_macro').mean()\n",
    "print(scores)\n",
    "\n"
   ]
  },
  {
   "cell_type": "code",
   "execution_count": null,
   "metadata": {},
   "outputs": [
    {
     "data": {
      "image/png": "[encoded data removed]",
      "text/plain": [
       "<Figure size 640x480 with 2 Axes>"
      ]
     },
     "metadata": {},
     "output_type": "display_data"
    }
   ],
   "source": [
    "# plot orrelaton matrix for test_df\n",
    "test_df = pd.concat([X_test, y_test], axis=1)\n",
    "corr = test_df.corr()\n",
    "sns.heatmap(corr, annot=True)\n",
    "plt.show()\n"
   ]
  },
  {
   "cell_type": "code",
   "execution_count": null,
   "metadata": {},
   "outputs": [],
   "source": [
    "# initiate transformer model from torch\n"
   ]
  }
 ],
 "metadata": {
  "kernelspec": {
   "display_name": "ai_env",
   "language": "python",
   "name": "python3"
  },
  "language_info": {
   "codemirror_mode": {
    "name": "ipython",
    "version": 3
   },
   "file_extension": ".py",
   "mimetype": "text/x-python",
   "name": "python",
   "nbconvert_exporter": "python",
   "pygments_lexer": "ipython3",
   "version": "3.11.6"
  }
 },
 "nbformat": 4,
 "nbformat_minor": 2
}
