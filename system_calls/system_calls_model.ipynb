{
 "cells": [
  {
   "cell_type": "code",
   "execution_count": 65,
   "metadata": {},
   "outputs": [],
   "source": [
    "import numpy as np\n",
    "import pandas as pd\n",
    "import os\n",
    "import torch\n",
    "import torch.nn as nn\n",
    "from torch.utils.data import DataLoader, random_split, TensorDataset"
   ]
  },
  {
   "cell_type": "code",
   "execution_count": 83,
   "metadata": {},
   "outputs": [],
   "source": [
    "folder_path = '../../ADFA-LD-Dataset/ADFA-LD/Training_Data_Master' \n",
    "data = []\n",
    "sequence_length = 10\n",
    "unique = []\n",
    "\n",
    "# Process each file\n",
    "for filename in os.listdir(folder_path):\n",
    "    file_path = os.path.join(folder_path, filename)\n",
    "    if os.path.isfile(file_path):\n",
    "        with open(file_path, 'r') as file:\n",
    "            content = file.read().split()\n",
    "            content = [int(s) for s in content]\n",
    "            combined_batches = [content[i:i + sequence_length] for i in range(0, len(content))]\n",
    "            combined_batches = [lst for lst in combined_batches if len(lst) == sequence_length]\n",
    "            data.extend(combined_batches)\n",
    "            unique.extend(content)\n",
    "\n",
    "unique_syscalls = set(unique)\n",
    "num_unique_syscalls = len(unique_syscalls)\n"
   ]
  },
  {
   "cell_type": "code",
   "execution_count": 109,
   "metadata": {},
   "outputs": [
    {
     "name": "stdout",
     "output_type": "stream",
     "text": [
      "[320, 322, 331, 332]\n",
      "[[4, 9, 27, 19, 84, 19, 3, 88, 84, 4], [9, 27, 19, 84, 19, 3, 88, 84, 4, 19], [27, 19, 84, 19, 3, 88, 84, 4, 19, 3], [19, 84, 19, 3, 88, 84, 4, 19, 3, 1], [84, 19, 3, 88, 84, 4, 19, 3, 1, 88], [19, 3, 88, 84, 4, 19, 3, 1, 88, 84], [3, 88, 84, 4, 19, 3, 1, 88, 84, 84], [88, 84, 4, 19, 3, 1, 88, 84, 84, 4], [84, 4, 19, 3, 1, 88, 84, 84, 4, 19], [4, 19, 3, 1, 88, 84, 84, 4, 19, 3]]\n"
     ]
    }
   ],
   "source": [
    "# Create a mapping from system call number to a unique index\n",
    "mapping = {sys_call: i for i, sys_call in enumerate(unique_syscalls)}\n",
    "\n",
    "# Apply the mapping to each system call in each sequence\n",
    "mapped_data = [[mapping[sys_call] for sys_call in sequence] for sequence in data]\n",
    "\n",
    "\n",
    "# Now proceed with creating tensors and DataLoader\n",
    "tensors = [torch.tensor(x) for x in mapped_data]\n",
    "tensor = torch.stack(tensors)\n",
    "dataset = TensorDataset(tensor)\n",
    "dataloader = DataLoader(dataset, batch_size=64, shuffle=True)"
   ]
  },
  {
   "cell_type": "code",
   "execution_count": 101,
   "metadata": {},
   "outputs": [],
   "source": [
    "class Autoencoder(nn.Module):\n",
    "    def __init__(self, num_system_calls, embedding_dim, encoding_dim, hidden_dim = 4):\n",
    "        super(Autoencoder, self).__init__()\n",
    "        self.embedding_dim = embedding_dim  # Store embedding_dim\n",
    "\n",
    "        self.embedding = nn.Embedding(num_system_calls, embedding_dim)\n",
    "\n",
    "        # Encoder\n",
    "        self.encoder = nn.Sequential(\n",
    "            nn.Linear(10 * embedding_dim, hidden_dim),\n",
    "            nn.ReLU(),\n",
    "            nn.Linear(hidden_dim, encoding_dim)\n",
    "        )\n",
    "\n",
    "        # Decoder\n",
    "        self.decoder = nn.Sequential(\n",
    "            nn.Linear(encoding_dim, hidden_dim),\n",
    "            nn.ReLU(),\n",
    "            nn.Linear(hidden_dim, 10 * embedding_dim)  # Output size matches the total size of embedded input\n",
    "        )\n",
    "\n",
    "    def forward(self, x):\n",
    "        x = self.embedding(x)\n",
    "        x = x.view(x.size(0), -1)\n",
    "        encoded = self.encoder(x)\n",
    "        decoded = self.decoder(encoded)\n",
    "        decoded = decoded.view(-1, 10)  # Reshape to [batch_size, sequence_length, embedding_dim]\n",
    "        return decoded\n"
   ]
  },
  {
   "cell_type": "code",
   "execution_count": 102,
   "metadata": {},
   "outputs": [],
   "source": [
    "from math import ceil\n",
    "\n",
    "embedding_dim = ceil(num_unique_syscalls**(0.25))\n",
    "encoding_dim = round((embedding_dim * sequence_length) /3)\n",
    "autoencoder = Autoencoder(num_system_calls = num_unique_syscalls, embedding_dim = embedding_dim, encoding_dim = encoding_dim)\n"
   ]
  },
  {
   "cell_type": "code",
   "execution_count": 103,
   "metadata": {},
   "outputs": [
    {
     "name": "stdout",
     "output_type": "stream",
     "text": [
      "Epoch [1/20], Loss: 0.00000017\n",
      "Epoch [2/20], Loss: 0.00000373\n",
      "Epoch [3/20], Loss: 0.00002226\n",
      "Epoch [4/20], Loss: 0.00000267\n",
      "Epoch [5/20], Loss: 0.00000369\n",
      "Epoch [6/20], Loss: 0.00000145\n",
      "Epoch [7/20], Loss: 0.00000450\n",
      "Epoch [8/20], Loss: 0.00000446\n",
      "Epoch [9/20], Loss: 0.00000243\n",
      "Epoch [10/20], Loss: 0.00000203\n",
      "Epoch [11/20], Loss: 0.00000217\n",
      "Epoch [12/20], Loss: 0.00000302\n",
      "Epoch [13/20], Loss: 0.00000522\n",
      "Epoch [14/20], Loss: 0.00000124\n",
      "Epoch [15/20], Loss: 0.00000353\n",
      "Epoch [16/20], Loss: 0.00000434\n",
      "Epoch [17/20], Loss: 0.00000723\n",
      "Epoch [18/20], Loss: 0.00000061\n",
      "Epoch [19/20], Loss: 0.00000624\n",
      "Epoch [20/20], Loss: 0.00001366\n"
     ]
    }
   ],
   "source": [
    "optimizer = torch.optim.Adam(autoencoder.parameters(), lr=0.01)\n",
    "criterion = nn.MSELoss()\n",
    "loss_history = []\n",
    "\n",
    "num_epochs = 20\n",
    "for epoch in range(num_epochs):\n",
    "    for batch in dataloader:\n",
    "        inputs = batch[0]\n",
    "        embedded_inputs = autoencoder.embedding(inputs)  # Embed the inputs\n",
    "        embedded_inputs = embedded_inputs.view(inputs.size(0), -1)  # Flatten the embedded inputs\n",
    "\n",
    "        outputs = autoencoder(inputs)\n",
    "        outputs = outputs.view(inputs.size(0), -1)  # Flatten the outputs\n",
    "\n",
    "        loss = criterion(outputs, embedded_inputs)  # Compute loss between embedded input and output\n",
    "        loss_history.append(loss.item())\n",
    "\n",
    "        optimizer.zero_grad()\n",
    "        loss.backward()\n",
    "        optimizer.step()\n",
    "    print(f'Epoch [{epoch+1}/{num_epochs}], Loss: {loss.item():.8f}')\n"
   ]
  },
  {
   "cell_type": "code",
   "execution_count": 104,
   "metadata": {},
   "outputs": [
    {
     "data": {
      "image/png": "[encoded data removed]",
      "text/plain": [
       "<Figure size 640x480 with 1 Axes>"
      ]
     },
     "metadata": {},
     "output_type": "display_data"
    }
   ],
   "source": [
    "# plot loss history over epochs\n",
    "import matplotlib.pyplot as plt\n",
    "plt.plot(loss_history)\n",
    "plt.xlabel('Batch')\n",
    "plt.ylabel('Loss')\n",
    "plt.show()\n"
   ]
  },
  {
   "cell_type": "code",
   "execution_count": null,
   "metadata": {},
   "outputs": [],
   "source": []
  }
 ],
 "metadata": {
  "kernelspec": {
   "display_name": "base",
   "language": "python",
   "name": "python3"
  },
  "language_info": {
   "codemirror_mode": {
    "name": "ipython",
    "version": 3
   },
   "file_extension": ".py",
   "mimetype": "text/x-python",
   "name": "python",
   "nbconvert_exporter": "python",
   "pygments_lexer": "ipython3",
   "version": "3.11.6"
  }
 },
 "nbformat": 4,
 "nbformat_minor": 2
}
